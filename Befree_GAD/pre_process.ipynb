{
 "cells": [
  {
   "cell_type": "code",
   "execution_count": 1,
   "metadata": {},
   "outputs": [],
   "source": [
    "import urllib.request\n",
    "import time\n",
    "import sys\n",
    "import getopt\n",
    "import pandas as pd\n",
    "import numpy as np\n",
    "import pickle\n"
   ]
  },
  {
   "cell_type": "code",
   "execution_count": 21,
   "metadata": {},
   "outputs": [],
   "source": [
    "%run utils.ipynb"
   ]
  },
  {
   "cell_type": "code",
   "execution_count": 38,
   "metadata": {},
   "outputs": [],
   "source": [
    "embSize = 300\n",
    "d1_emb_size=10\n",
    "d2_emb_size=10\n",
    "trainFile='../data/GAD_merged_samples_mesh.csv'\n",
    "\n",
    "# Replace with path of word embdding file   \n",
    "wefile = \"/mnt/admin/GDA_backup/Dataset/embeddings/crawl-300d-2M.vec\"\n",
    "random_seed=1331"
   ]
  },
  {
   "cell_type": "markdown",
   "metadata": {},
   "source": [
    "# Read Data"
   ]
  },
  {
   "cell_type": "code",
   "execution_count": 23,
   "metadata": {},
   "outputs": [
    {
     "name": "stdout",
     "output_type": "stream",
     "text": [
      "Input File Reading\n"
     ]
    }
   ],
   "source": [
    "sent_contents, entity1_list, entity2_list, sent_lables,gene_id_list,disease_id_list,gene_symbol_list = dataRead_befree(trainFile)"
   ]
  },
  {
   "cell_type": "code",
   "execution_count": 42,
   "metadata": {},
   "outputs": [],
   "source": [
    "word_list, distance1_list, distance2_list  = get_wordList_and_distances_befree(sent_contents)"
   ]
  },
  {
   "cell_type": "code",
   "execution_count": 25,
   "metadata": {},
   "outputs": [
    {
     "name": "stdout",
     "output_type": "stream",
     "text": [
      "train_size 5330\n"
     ]
    }
   ],
   "source": [
    "print (\"train_size\", len(word_list))\n"
   ]
  },
  {
   "cell_type": "code",
   "execution_count": 26,
   "metadata": {},
   "outputs": [],
   "source": [
    "sent_lengths= findSentLengths([word_list])"
   ]
  },
  {
   "cell_type": "code",
   "execution_count": 27,
   "metadata": {},
   "outputs": [],
   "source": [
    "sentMax =max(max(sent_lengths[:]))\n"
   ]
  },
  {
   "cell_type": "markdown",
   "metadata": {},
   "source": [
    "## Prepare Lable Matrix"
   ]
  },
  {
   "cell_type": "code",
   "execution_count": 28,
   "metadata": {},
   "outputs": [],
   "source": [
    "# Three Class\n",
    "\n",
    "# Y : positive association \n",
    "# N:  negative association\n",
    "# F:  No Smmantic Association\n",
    "\n",
    "\n",
    "label_dict = {'F':0, 'Y': 1, 'N': 2}\n",
    "\n",
    "\n",
    "Y = mapLabelToId_befree(sent_lables, label_dict)\n",
    "Y_train = np.zeros((len(Y), len(label_dict)))\n",
    "for i in range(len(Y)):\n",
    "    Y_train[i][Y[i]] = 1.0"
   ]
  },
  {
   "cell_type": "markdown",
   "metadata": {},
   "source": [
    "# Generate Word and Position Embedding Vectors"
   ]
  },
  {
   "cell_type": "markdown",
   "metadata": {},
   "source": [
    "### Word Embedding"
   ]
  },
  {
   "cell_type": "code",
   "execution_count": 39,
   "metadata": {},
   "outputs": [
    {
     "name": "stdout",
     "output_type": "stream",
     "text": [
      "Found 6766 unique words (139634 in total)\n",
      "word dictonary length 6766\n",
      "Reading word vectors\n",
      "number of unknown word in word embedding 1525\n",
      "number of known word in word embedding 5241\n"
     ]
    }
   ],
   "source": [
    "word_dict, word_to_id, id_to_word = word_mapping(word_list)\n",
    "print( \"word dictonary length\", len(word_dict))\n",
    "word_vectors = readWordEmb_fastText(word_dict,id_to_word,word_to_id, wefile, embSize)\n",
    "X_train =   mapWordToId(word_list, word_to_id)"
   ]
  },
  {
   "cell_type": "markdown",
   "metadata": {},
   "source": [
    "### Position Embedding"
   ]
  },
  {
   "cell_type": "code",
   "execution_count": 43,
   "metadata": {},
   "outputs": [],
   "source": [
    "distance1_dict = makeDistanceList([distance1_list])\n",
    "distance2_dict = makeDistanceList([distance2_list])\n",
    "distance1_vectors = mapWordToId_list(distance1_list, distance1_dict)\n",
    "distance2_vectors = mapWordToId_list(distance2_list, distance2_dict)"
   ]
  },
  {
   "cell_type": "markdown",
   "metadata": {},
   "source": [
    "### Pad Embdding Vectors"
   ]
  },
  {
   "cell_type": "code",
   "execution_count": 44,
   "metadata": {},
   "outputs": [],
   "source": [
    "X_train, distance1_vectors, distance2_vectors = paddData([X_train, distance1_vectors, distance2_vectors ], sentMax,padd_num= 100000) \n"
   ]
  },
  {
   "cell_type": "markdown",
   "metadata": {},
   "source": [
    "# Save Prepared Data as Pickle File"
   ]
  },
  {
   "cell_type": "code",
   "execution_count": 45,
   "metadata": {},
   "outputs": [],
   "source": [
    "with open('data/pickles/befree_3class_crawl-300d-2M.pickle', 'wb') as handle:\n",
    "    pickle.dump(Tr_gene_id_list, handle)\n",
    "    pickle.dump(Tr_gene_symbol_list, handle)\n",
    "    pickle.dump(Tr_disease_id_list, handle)\n",
    "    pickle.dump(X_train, handle)\n",
    "    pickle.dump(distance1_vectors, handle)\n",
    "    pickle.dump(distance2_vectors, handle)    \n",
    "    pickle.dump(Y_train, handle)\n",
    "    pickle.dump(word_list, handle)\n",
    "    pickle.dump(word_vectors, handle)\n",
    "    pickle.dump(word_dict, handle)\n",
    "    pickle.dump(distance1_dict, handle)\n",
    "    pickle.dump(distance2_dict, handle)\n",
    "    pickle.dump(label_dict, handle) \n",
    "    pickle.dump(sentMax, handle)\n",
    "    \n",
    "    \n",
    "    \n",
    "    "
   ]
  },
  {
   "cell_type": "code",
   "execution_count": null,
   "metadata": {},
   "outputs": [],
   "source": []
  }
 ],
 "metadata": {
  "kernelspec": {
   "display_name": "Python 3",
   "language": "python",
   "name": "python3"
  },
  "language_info": {
   "codemirror_mode": {
    "name": "ipython",
    "version": 3
   },
   "file_extension": ".py",
   "mimetype": "text/x-python",
   "name": "python",
   "nbconvert_exporter": "python",
   "pygments_lexer": "ipython3",
   "version": "3.6.5"
  }
 },
 "nbformat": 4,
 "nbformat_minor": 2
}
