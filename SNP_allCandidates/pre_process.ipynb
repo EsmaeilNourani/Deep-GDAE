{
 "cells": [
  {
   "cell_type": "markdown",
   "metadata": {},
   "source": [
    "# Preprocess Required for Generating Train Data "
   ]
  },
  {
   "cell_type": "code",
   "execution_count": 1,
   "metadata": {},
   "outputs": [],
   "source": [
    "import urllib.request\n",
    "import time\n",
    "import sys\n",
    "import getopt\n",
    "import pandas as pd\n",
    "import numpy as np\n",
    "import pickle\n"
   ]
  },
  {
   "cell_type": "code",
   "execution_count": 2,
   "metadata": {},
   "outputs": [],
   "source": [
    "%run ../utils.ipynb"
   ]
  },
  {
   "cell_type": "code",
   "execution_count": 3,
   "metadata": {},
   "outputs": [],
   "source": [
    "embSize = 200\n",
    "ftrain='../data/SNP_train_data.txt'\n",
    "ftest = \"../data/SNP_test_data.txt\"\n",
    "# Replace with path of word embdding file   \n",
    "wefile = \"/mnt/admin/GDA_backup/Dataset/embeddings/PubMed-and-PMC-w2v.bin\"\n",
    "random_seed=1331"
   ]
  },
  {
   "cell_type": "markdown",
   "metadata": {},
   "source": [
    "# Read Train Data"
   ]
  },
  {
   "cell_type": "code",
   "execution_count": 4,
   "metadata": {},
   "outputs": [
    {
     "name": "stdout",
     "output_type": "stream",
     "text": [
      "Input File Reading\n",
      "train_size 935\n"
     ]
    }
   ],
   "source": [
    "samples= pd.read_csv(ftrain,sep='\\t')\n",
    "Tr_sent_contents, Tr_entity1_list, Tr_entity2_list, Tr_sent_lables,_ = dataRead_snp(ftrain)\n",
    "Tr_word_list, Tr_d1_list, Tr_d2_list = get_wordList_and_distances_snp(Tr_sent_contents)\n",
    "print (\"train_size\", len(Tr_word_list))"
   ]
  },
  {
   "cell_type": "markdown",
   "metadata": {},
   "source": [
    "# Read Test Data"
   ]
  },
  {
   "cell_type": "code",
   "execution_count": 5,
   "metadata": {},
   "outputs": [
    {
     "name": "stdout",
     "output_type": "stream",
     "text": [
      "Input File Reading\n",
      "test_size 365\n"
     ]
    }
   ],
   "source": [
    "Te_sent_contents, Te_entity1_list, Te_entity2_list, Te_sent_lables,_ = dataRead_snp(ftest)\n",
    "Te_word_list, Te_d1_list, Te_d2_list = get_wordList_and_distances_snp(Te_sent_contents)\n",
    "\n",
    "print (\"test_size\", len(Te_word_list))\n"
   ]
  },
  {
   "cell_type": "markdown",
   "metadata": {},
   "source": [
    "## Prepare Lable Matrix"
   ]
  },
  {
   "cell_type": "code",
   "execution_count": 6,
   "metadata": {},
   "outputs": [
    {
     "data": {
      "text/plain": [
       "{'negative', 'neutral', 'positive'}"
      ]
     },
     "execution_count": 6,
     "metadata": {},
     "output_type": "execute_result"
    }
   ],
   "source": [
    "set(Tr_sent_lables)"
   ]
  },
  {
   "cell_type": "code",
   "execution_count": 7,
   "metadata": {},
   "outputs": [],
   "source": [
    "label_dict = {'negative':0, 'neutral':0,'positive':1}\n",
    "Y_t = mapLabelToId_snp(Tr_sent_lables, label_dict)\n",
    "\n",
    "Y_train = np.zeros((len(Y_t), 2))\n",
    "for i in range(len(Y_t)):\n",
    "    Y_train[i][Y_t[i]] = 1.0"
   ]
  },
  {
   "cell_type": "code",
   "execution_count": 8,
   "metadata": {},
   "outputs": [],
   "source": [
    "Y_te = mapLabelToId_snp(Te_sent_lables, label_dict)\n",
    "\n",
    "Y_test = np.zeros((len(Y_te), 2))\n",
    "for i in range(len(Y_te)):\n",
    "    Y_test[i][Y_te[i]] = 1.0"
   ]
  },
  {
   "cell_type": "markdown",
   "metadata": {},
   "source": [
    "# Generate Word and Position Embedding Vectors"
   ]
  },
  {
   "cell_type": "markdown",
   "metadata": {},
   "source": [
    "### Word Embedding"
   ]
  },
  {
   "cell_type": "code",
   "execution_count": 9,
   "metadata": {},
   "outputs": [
    {
     "name": "stdout",
     "output_type": "stream",
     "text": [
      "Found 2775 unique words (45627 in total)\n",
      "word dictonary length 2775\n",
      "Reading word vectors\n",
      "Loaded 2000000 pretrained embeddings.\n",
      "number of unknown word in word embedding 475\n"
     ]
    }
   ],
   "source": [
    "sent_list = sum([Tr_word_list, Te_word_list], [])\n",
    "word_dict, word_to_id, id_to_word = word_mapping(sent_list)\n",
    "print( \"word dictonary length\", len(word_dict))\n",
    "# Word Embedding\n",
    "word_vectors = readWordEmb(word_dict,id_to_word,word_to_id, wefile, embSize,limit=2000000)\n",
    "W_train =   mapWordToId(Tr_word_list, word_to_id)"
   ]
  },
  {
   "cell_type": "code",
   "execution_count": 18,
   "metadata": {},
   "outputs": [],
   "source": [
    "W_test =   mapWordToId(Te_word_list, word_to_id)"
   ]
  },
  {
   "cell_type": "markdown",
   "metadata": {},
   "source": [
    "### Position Embedding"
   ]
  },
  {
   "cell_type": "code",
   "execution_count": 20,
   "metadata": {},
   "outputs": [],
   "source": [
    "\n",
    "d1_dict = makeDistanceList([Tr_d1_list, Te_d1_list])\n",
    "d2_dict = makeDistanceList([Tr_d2_list, Te_d2_list])\n",
    "\n",
    "d1_train = mapWordToId_list(Tr_d1_list, d1_dict)\n",
    "d2_train = mapWordToId_list(Tr_d2_list, d2_dict)\n"
   ]
  },
  {
   "cell_type": "code",
   "execution_count": 21,
   "metadata": {},
   "outputs": [],
   "source": [
    "d1_test = mapWordToId_list(Te_d1_list, d1_dict)\n",
    "d2_test = mapWordToId_list(Te_d2_list, d2_dict)"
   ]
  },
  {
   "cell_type": "markdown",
   "metadata": {},
   "source": [
    "### Pad Embdding Vectors"
   ]
  },
  {
   "cell_type": "code",
   "execution_count": 22,
   "metadata": {},
   "outputs": [],
   "source": [
    "train_sent_lengths, test_sent_lengths = findSentLengths([Tr_word_list, Te_word_list])\n",
    "sentMax = max(train_sent_lengths +  test_sent_lengths)\n",
    "\n",
    "#padding\n",
    "W_train, d1_train, d2_train = paddData([W_train, d1_train, d2_train ], sentMax) \n"
   ]
  },
  {
   "cell_type": "code",
   "execution_count": 23,
   "metadata": {},
   "outputs": [
    {
     "data": {
      "text/plain": [
       "list"
      ]
     },
     "execution_count": 23,
     "metadata": {},
     "output_type": "execute_result"
    }
   ],
   "source": [
    "type (W_test)"
   ]
  },
  {
   "cell_type": "code",
   "execution_count": 24,
   "metadata": {},
   "outputs": [],
   "source": [
    "#padding\n",
    "W_test, d1_test, d2_test = paddData([W_test, d1_test, d2_test ], sentMax) \n"
   ]
  },
  {
   "cell_type": "code",
   "execution_count": 25,
   "metadata": {},
   "outputs": [
    {
     "data": {
      "text/plain": [
       "numpy.ndarray"
      ]
     },
     "execution_count": 25,
     "metadata": {},
     "output_type": "execute_result"
    }
   ],
   "source": [
    "type (W_test)"
   ]
  },
  {
   "cell_type": "markdown",
   "metadata": {},
   "source": [
    "# Save Training data as a Pickle file"
   ]
  },
  {
   "cell_type": "code",
   "execution_count": 32,
   "metadata": {},
   "outputs": [],
   "source": [
    "#with open('train_and_test_data_sentences_snp_2classWiki.pickle', 'wb') as handle:\n",
    "with open('../data/pickles/train_and_test_data_sentences_snp_2class.pickle', 'wb') as handle:\n",
    "    pickle.dump(W_train, handle)\n",
    "    pickle.dump(d1_train, handle)\n",
    "    pickle.dump(d2_train, handle)    \n",
    "    pickle.dump(Y_train, handle)\n",
    "    pickle.dump(Tr_word_list, handle)\n",
    "    \n",
    "    pickle.dump(W_test, handle)\n",
    "    pickle.dump(d1_test, handle)\n",
    "    pickle.dump(d2_test, handle)    \n",
    "    pickle.dump(Y_test, handle)\n",
    "    pickle.dump(Te_word_list, handle)\n",
    "    \n",
    "    pickle.dump(word_vectors, handle)\n",
    "    pickle.dump(word_dict, handle)\n",
    "    pickle.dump(d1_dict, handle)\n",
    "    pickle.dump(d2_dict, handle)\n",
    "    pickle.dump(label_dict, handle) \n",
    "    pickle.dump(sentMax, handle)\n",
    "    \n",
    "    "
   ]
  },
  {
   "cell_type": "markdown",
   "metadata": {},
   "source": [
    "# test data statistics"
   ]
  },
  {
   "cell_type": "code",
   "execution_count": 30,
   "metadata": {},
   "outputs": [
    {
     "data": {
      "text/plain": [
       "166"
      ]
     },
     "execution_count": 30,
     "metadata": {},
     "output_type": "execute_result"
    }
   ],
   "source": [
    "disease_list=np.array(Te_entity2_list)\n",
    "disease_list=disease_list[:,0]\n",
    "len(np.unique(disease_list))\n",
    "labels=np.array(Te_sent_lables)\n",
    "len(np.unique(disease_list[labels[:]=='negative']))\n",
    "len(np.unique(disease_list[labels[:]=='neutral']))\n",
    "len(np.unique(disease_list[labels[:]=='positive']))\n",
    "gene_list=np.array(Te_entity1_list)\n",
    "gene_list=gene_list[:,0]\n",
    "len(np.unique(gene_list))\n",
    "len(np.unique(gene_list[labels[:]=='negative']))\n",
    "len(np.unique(gene_list[labels[:]=='neutral']))\n",
    "len(np.unique(gene_list[labels[:]=='positive']))\n",
    "len(labels[labels[:]=='negative'])\n",
    "len(labels[labels[:]=='positive'])\n",
    "len(labels[labels[:]=='neutral'])"
   ]
  },
  {
   "cell_type": "markdown",
   "metadata": {},
   "source": [
    "# train data statistics"
   ]
  },
  {
   "cell_type": "code",
   "execution_count": 9,
   "metadata": {},
   "outputs": [
    {
     "data": {
      "text/plain": [
       "142"
      ]
     },
     "execution_count": 9,
     "metadata": {},
     "output_type": "execute_result"
    }
   ],
   "source": [
    "disease_list=np.array(Tr_entity2_list)\n",
    "disease_list=disease_list[:,0]\n",
    "len(np.unique(disease_list))\n",
    "labels=np.array(Tr_sent_lables)\n",
    "len(np.unique(disease_list[labels[:]=='negative']))\n",
    "len(np.unique(disease_list[labels[:]=='neutral']))\n",
    "len(np.unique(disease_list[labels[:]=='positive']))\n",
    "gene_list=np.array(Tr_entity1_list)\n",
    "gene_list=gene_list[:,0]\n",
    "len(np.unique(gene_list))\n",
    "len(np.unique(gene_list[labels[:]=='negative']))\n",
    "len(np.unique(gene_list[labels[:]=='neutral']))\n",
    "len(np.unique(gene_list[labels[:]=='positive']))\n",
    "len(labels[labels[:]=='negative'])\n",
    "len(labels[labels[:]=='positive'])\n",
    "len(labels[labels[:]=='neutral'])"
   ]
  },
  {
   "cell_type": "code",
   "execution_count": null,
   "metadata": {},
   "outputs": [],
   "source": []
  }
 ],
 "metadata": {
  "kernelspec": {
   "display_name": "Python 3",
   "language": "python",
   "name": "python3"
  },
  "language_info": {
   "codemirror_mode": {
    "name": "ipython",
    "version": 3
   },
   "file_extension": ".py",
   "mimetype": "text/x-python",
   "name": "python",
   "nbconvert_exporter": "python",
   "pygments_lexer": "ipython3",
   "version": "3.6.5"
  }
 },
 "nbformat": 4,
 "nbformat_minor": 2
}
