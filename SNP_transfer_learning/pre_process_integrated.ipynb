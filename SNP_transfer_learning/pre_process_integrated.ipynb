{
 "cells": [
  {
   "cell_type": "markdown",
   "metadata": {},
   "source": [
    "# Generate our corpus to train the Base Model for Transfer Learning"
   ]
  },
  {
   "cell_type": "code",
   "execution_count": 1,
   "metadata": {},
   "outputs": [],
   "source": [
    "from sklearn.metrics import precision_score\n",
    "from sklearn.metrics import recall_score\n",
    "from sklearn.metrics import f1_score\n",
    "from sklearn.metrics import accuracy_score\n",
    "from sklearn.metrics import confusion_matrix\n",
    "import numpy as np\n",
    "import sklearn as sk\n",
    "import random\n",
    "import csv\n",
    "import re\n",
    "import collections\n",
    "import pickle\n",
    "import sys\n",
    "\n",
    "#pip install -U gensim\n",
    "from gensim.models import word2vec\n",
    "from sklearn.model_selection import train_test_split"
   ]
  },
  {
   "cell_type": "code",
   "execution_count": 2,
   "metadata": {},
   "outputs": [],
   "source": [
    "%run ../utils.ipynb"
   ]
  },
  {
   "cell_type": "code",
   "execution_count": 3,
   "metadata": {},
   "outputs": [],
   "source": [
    "embSize = 200\n",
    "pos_file = \"data/dataset_disgent_ctd_6719.csv\"\n",
    "neg_file=\"data/negatives_5000.csv\"\n",
    "ftrain=\"../data/our_corpus/train_samples_50of100.csv\"\n",
    "ftest=\"../data/our_corpus/test_samples_20of100.csv\"\n",
    "fval=\"../data/our_corpus/val_samples_30of100.csv\"\n",
    "# Replace with path of word embdding file   \n",
    "wefile = \"/mnt/admin/GDA_backup/Dataset/embeddings/PubMed-and-PMC-w2v.bin\"\n",
    "train_frac=0.5\n",
    "test_frac=0.2\n",
    "val_frac=0.3\n",
    "random_seed=1331"
   ]
  },
  {
   "cell_type": "code",
   "execution_count": 4,
   "metadata": {},
   "outputs": [],
   "source": [
    "neg_samples= pd.read_csv(neg_file, encoding='latin-1')\n"
   ]
  },
  {
   "cell_type": "markdown",
   "metadata": {},
   "source": [
    "# sample postive and negative ,  and then combine& shuffle"
   ]
  },
  {
   "cell_type": "code",
   "execution_count": 5,
   "metadata": {},
   "outputs": [],
   "source": [
    "#change random seed to sample different data in each run \n",
    "positive_samples,negative_samples=sample_positive_negative(pos_file,neg_file,neg_ratio= 1,num_pos_samples= 4000,random_seed=random_seed)\n",
    "\n",
    "pos_train_samples,pos_test_samples,pos_val_samples=split_train_test_val(positive_samples,train_frac,test_frac,val_frac,random_seed)\n",
    "\n",
    "neg_train_samples,neg_test_samples,neg_val_samples=split_train_test_val(negative_samples,train_frac,test_frac,val_frac,random_seed)"
   ]
  },
  {
   "cell_type": "code",
   "execution_count": 6,
   "metadata": {},
   "outputs": [],
   "source": [
    "#combine\n",
    "train_samples=pos_train_samples.append(neg_train_samples,sort=False)  \n",
    "#shuffle\n",
    "train_samples=train_samples.sample(frac=1,random_state=random_seed)\n",
    "\n",
    "#combine\n",
    "test_samples=pos_test_samples.append(neg_test_samples,sort=False)  \n",
    "#shuffle\n",
    "test_samples=test_samples.sample(frac=1,random_state=random_seed)\n",
    "\n",
    "#combine\n",
    "val_samples=pos_val_samples.append(neg_val_samples,sort=False)  \n",
    "#shuffle\n",
    "val_samples=val_samples.sample(frac=1,random_state=random_seed)\n",
    "\n",
    "train_samples.to_csv(ftrain,index=None)\n",
    "test_samples.to_csv(ftest,index=None)\n",
    "val_samples.to_csv(fval,index=None)"
   ]
  },
  {
   "cell_type": "markdown",
   "metadata": {},
   "source": [
    "# Read  Data  and Create Features"
   ]
  },
  {
   "cell_type": "code",
   "execution_count": 7,
   "metadata": {},
   "outputs": [
    {
     "name": "stdout",
     "output_type": "stream",
     "text": [
      "Input File Reading\n",
      "Input File Reading\n",
      "Input File Reading\n"
     ]
    }
   ],
   "source": [
    "Tr_sent_contents, Tr_entity1_list, Tr_entity2_list, Tr_sent_lables,Tr_gene_id_list,Tr_disease_id_list = dataRead(ftrain,max_length=100 )\n",
    "\n",
    "Tr_word_list, Tr_d1_list, Tr_d2_list  = get_wordList_and_distances_Corpus(Tr_sent_contents, Tr_entity1_list, Tr_entity2_list)\n",
    "\n",
    "V_sent_contents, V_entity1_list, V_entity2_list, V_sent_lables, V_gene_id_list,V_disease_id_list = dataRead(fval,max_length=100 )\n",
    "\n",
    "V_word_list, V_d1_list, V_d2_list  = get_wordList_and_distances_Corpus(V_sent_contents, V_entity1_list, V_entity2_list)\n",
    "\n",
    "Te_sent_contents, Te_entity1_list, Te_entity2_list, Te_sent_lables,Te_gene_id_list,Te_disease_id_list = dataRead(ftest,max_length=100 )\n",
    "\n",
    "Te_word_list, Te_d1_list, Te_d2_list  = get_wordList_and_distances_Corpus(Te_sent_contents, Te_entity1_list, Te_entity2_list)"
   ]
  },
  {
   "cell_type": "code",
   "execution_count": 8,
   "metadata": {},
   "outputs": [
    {
     "name": "stdout",
     "output_type": "stream",
     "text": [
      "train_size 3997\n",
      "val_size 2398\n",
      "test_size 1597\n"
     ]
    }
   ],
   "source": [
    "print (\"train_size\", len(Tr_word_list))\n",
    "print( \"val_size\", len(V_word_list))\n",
    "print( \"test_size\", len(Te_word_list))"
   ]
  },
  {
   "cell_type": "code",
   "execution_count": 9,
   "metadata": {},
   "outputs": [],
   "source": [
    "train_sent_lengths, val_sent_lengths, test_sent_lengths = findSentLengths([Tr_word_list, V_word_list, Te_word_list])\n",
    "\n",
    "sentMax = max(train_sent_lengths + val_sent_lengths + test_sent_lengths)\n"
   ]
  },
  {
   "cell_type": "code",
   "execution_count": 10,
   "metadata": {},
   "outputs": [],
   "source": [
    "label_dict = {'Negative':0, 'Positive':1}"
   ]
  },
  {
   "cell_type": "markdown",
   "metadata": {},
   "source": [
    "### Load SNP dataset to synchronize the dictionary IDs with our generated Corpus"
   ]
  },
  {
   "cell_type": "code",
   "execution_count": 11,
   "metadata": {},
   "outputs": [],
   "source": [
    "with open('../data/pickles/train_and_test_data_sentences_snp_2class.pickle', 'rb') as handle:    \n",
    "    \n",
    "    W_train_snp = pickle.load(handle)\n",
    "    d1_train_snp = pickle.load(handle)\n",
    "    d2_train_snp = pickle.load(handle)\n",
    "    Y_train_snp = pickle.load(handle)\n",
    "    Tr_word_list_snp = pickle.load(handle)\n",
    "    \n",
    "    W_test_snp = pickle.load(handle)\n",
    "    d1_test_snp = pickle.load(handle)\n",
    "    d2_test_snp = pickle.load(handle)\n",
    "    Y_test_snp = pickle.load(handle)\n",
    "    Te_word_list_snp = pickle.load(handle)\n",
    "    \n",
    "    \n",
    "    word_vectors_snp = pickle.load(handle)\n",
    "    word_dict_snp = pickle.load(handle)\n",
    "    d1_dict_snp = pickle.load(handle)\n",
    "    d2_dict_snp = pickle.load(handle)\n",
    "    label_dict_snp = pickle.load(handle)\n",
    "    sentMax_snp = pickle.load(handle)"
   ]
  },
  {
   "cell_type": "code",
   "execution_count": 12,
   "metadata": {},
   "outputs": [
    {
     "name": "stdout",
     "output_type": "stream",
     "text": [
      "Found 17340 unique words (243071 in total)\n"
     ]
    }
   ],
   "source": [
    "sent_list = sum([Tr_word_list, V_word_list, Te_word_list,Tr_word_list_snp,Te_word_list_snp], [])\n",
    "\n",
    "word_dict, word_to_id, id_to_word = word_mapping(sent_list)"
   ]
  },
  {
   "cell_type": "markdown",
   "metadata": {},
   "source": [
    "# Generate Word Embedding Vectors"
   ]
  },
  {
   "cell_type": "code",
   "execution_count": 14,
   "metadata": {},
   "outputs": [
    {
     "name": "stdout",
     "output_type": "stream",
     "text": [
      "word dictonary length 17340\n",
      "Reading word vectors\n",
      "Loaded 4087446 pretrained embeddings.\n",
      "number of unknown word in word embedding 2875\n"
     ]
    }
   ],
   "source": [
    "print( \"word dictonary length\", len(word_dict))\n",
    "\n",
    "# Word Embedding\n",
    "wv = readWordEmb(word_dict,id_to_word,word_to_id, wefile, embSize)\n"
   ]
  },
  {
   "cell_type": "code",
   "execution_count": 16,
   "metadata": {},
   "outputs": [],
   "source": [
    "sentMax_snp=100"
   ]
  },
  {
   "cell_type": "code",
   "execution_count": 17,
   "metadata": {},
   "outputs": [],
   "source": [
    "with open('data/integrated_entities.pickle', 'wb') as handle:\n",
    "    pickle.dump(id_to_word, handle)\n",
    "    pickle.dump(word_to_id, handle)\n",
    "    pickle.dump(sentMax_snp, handle)\n",
    "    pickle.dump(wv, handle)\n",
    "    pickle.dump(word_dict, handle)\n",
    "    "
   ]
  },
  {
   "cell_type": "code",
   "execution_count": 18,
   "metadata": {},
   "outputs": [],
   "source": [
    "# Mapping Train\n",
    "W_train =   mapWordToId(Tr_word_list, word_to_id)"
   ]
  },
  {
   "cell_type": "markdown",
   "metadata": {},
   "source": [
    "## Prepare Lable Matrix"
   ]
  },
  {
   "cell_type": "code",
   "execution_count": 19,
   "metadata": {},
   "outputs": [],
   "source": [
    "Y_t = mapLabelToId(Tr_sent_lables, label_dict)\n",
    "Y_train = np.zeros((len(Y_t), len(label_dict)))\n",
    "for i in range(len(Y_t)):\n",
    "    Y_train[i][Y_t[i]] = 1.0"
   ]
  },
  {
   "cell_type": "code",
   "execution_count": 20,
   "metadata": {},
   "outputs": [],
   "source": [
    "#Mapping Validation\n",
    "W_val =   mapWordToId(V_word_list, word_to_id)\n",
    "Y_t = mapLabelToId(V_sent_lables, label_dict)\n",
    "Y_val = np.zeros((len(Y_t), len(label_dict)))\n",
    "for i in range(len(Y_t)):\n",
    "    Y_val[i][Y_t[i]] = 1.0"
   ]
  },
  {
   "cell_type": "code",
   "execution_count": 21,
   "metadata": {},
   "outputs": [],
   "source": [
    "# Mapping Test\n",
    "W_test =   mapWordToId(Te_word_list, word_to_id)\n",
    "Y_t = mapLabelToId(Te_sent_lables, label_dict)\n",
    "Y_test = np.zeros((len(Y_t), len(label_dict)))\n",
    "for i in range(len(Y_t)):\n",
    "    Y_test[i][Y_t[i]] = 1.0"
   ]
  },
  {
   "cell_type": "markdown",
   "metadata": {},
   "source": [
    "### Pad Embdding Vectors"
   ]
  },
  {
   "cell_type": "code",
   "execution_count": 22,
   "metadata": {},
   "outputs": [],
   "source": [
    "sentMax=sentMax_snp"
   ]
  },
  {
   "cell_type": "code",
   "execution_count": 23,
   "metadata": {},
   "outputs": [
    {
     "name": "stdout",
     "output_type": "stream",
     "text": [
      "train 3997\n",
      "test 1597\n"
     ]
    }
   ],
   "source": [
    "#padding\n",
    "W_train, W_val, W_test = paddData([W_train, W_val, W_test], sentMax) \n",
    "\n",
    "print (\"train\", len(W_train))\n",
    "print (\"test\", len(W_test))"
   ]
  },
  {
   "cell_type": "code",
   "execution_count": 88,
   "metadata": {},
   "outputs": [
    {
     "data": {
      "text/plain": [
       "(3997, 91)"
      ]
     },
     "execution_count": 88,
     "metadata": {},
     "output_type": "execute_result"
    }
   ],
   "source": [
    "W_train.shape"
   ]
  },
  {
   "cell_type": "markdown",
   "metadata": {},
   "source": [
    "# Save Integrated data as a Pickle file to be used for training the Base Model "
   ]
  },
  {
   "cell_type": "code",
   "execution_count": 24,
   "metadata": {},
   "outputs": [],
   "source": [
    "with open('data/my_corpus_integrated.pickle', 'wb') as handle:\n",
    "    pickle.dump(W_train, handle)    \n",
    "    pickle.dump(Y_train, handle)\n",
    "    pickle.dump(Tr_word_list, handle)\n",
    "    \n",
    "    pickle.dump(W_val, handle)\n",
    "    pickle.dump(Y_val, handle)\n",
    "    pickle.dump(V_word_list, handle)\n",
    "\n",
    "    pickle.dump(W_test, handle)\n",
    "    pickle.dump(Y_test, handle)\n",
    "    pickle.dump(Te_word_list, handle)\n",
    "\n",
    "    pickle.dump(wv, handle)\n",
    "    pickle.dump(word_dict, handle)\n",
    " \n",
    "    pickle.dump(label_dict, handle) \n",
    "    pickle.dump(sentMax, handle)\n",
    "    \n",
    "    \n",
    "    "
   ]
  },
  {
   "cell_type": "code",
   "execution_count": null,
   "metadata": {},
   "outputs": [],
   "source": []
  }
 ],
 "metadata": {
  "kernelspec": {
   "display_name": "Python 3",
   "language": "python",
   "name": "python3"
  },
  "language_info": {
   "codemirror_mode": {
    "name": "ipython",
    "version": 3
   },
   "file_extension": ".py",
   "mimetype": "text/x-python",
   "name": "python",
   "nbconvert_exporter": "python",
   "pygments_lexer": "ipython3",
   "version": "3.6.5"
  }
 },
 "nbformat": 4,
 "nbformat_minor": 2
}
